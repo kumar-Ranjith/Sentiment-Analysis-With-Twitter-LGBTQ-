{
 "cells": [
  {
   "attachments": {},
   "cell_type": "markdown",
   "metadata": {},
   "source": [
    "basic data vis"
   ]
  },
  {
   "cell_type": "code",
   "execution_count": 2,
   "metadata": {},
   "outputs": [],
   "source": [
    "import numpy as np\n",
    "import pandas as pd\n",
    "import csv\n",
    "import sklearn\n",
    "import datetime\n",
    "import seaborn as sns\n",
    "import matplotlib.pyplot as plt\n",
    "import re\n",
    "#from sentence_transformers import SentenceTransformer\n",
    "\n",
    "data = pd.read_csv(\"tweets_num_crimes_per_month.csv\", lineterminator=\"\\n\")"
   ]
  },
  {
   "cell_type": "code",
   "execution_count": 12,
   "metadata": {},
   "outputs": [
    {
     "data": {
      "text/html": [
       "<div>\n",
       "<style scoped>\n",
       "    .dataframe tbody tr th:only-of-type {\n",
       "        vertical-align: middle;\n",
       "    }\n",
       "\n",
       "    .dataframe tbody tr th {\n",
       "        vertical-align: top;\n",
       "    }\n",
       "\n",
       "    .dataframe thead th {\n",
       "        text-align: right;\n",
       "    }\n",
       "</style>\n",
       "<table border=\"1\" class=\"dataframe\">\n",
       "  <thead>\n",
       "    <tr style=\"text-align: right;\">\n",
       "      <th></th>\n",
       "      <th>Unnamed: 0</th>\n",
       "      <th>Unnamed: 0.1</th>\n",
       "      <th>Date</th>\n",
       "      <th>Unnamed: 1</th>\n",
       "      <th>create_at</th>\n",
       "      <th>geo_tag-cityName</th>\n",
       "      <th>geo_tag-stateName</th>\n",
       "      <th>id</th>\n",
       "      <th>lang</th>\n",
       "      <th>place-country</th>\n",
       "      <th>user-followers_count</th>\n",
       "      <th>user-id</th>\n",
       "      <th>Date.1</th>\n",
       "      <th>Year</th>\n",
       "      <th>sentiment</th>\n",
       "      <th>year-month</th>\n",
       "      <th>num_crimes_per_month</th>\n",
       "      <th>keyword</th>\n",
       "    </tr>\n",
       "  </thead>\n",
       "  <tbody>\n",
       "    <tr>\n",
       "      <th>0</th>\n",
       "      <td>0</td>\n",
       "      <td>0</td>\n",
       "      <td>2015-11-24</td>\n",
       "      <td>0</td>\n",
       "      <td>2015-11-24T05:40:49.000Z</td>\n",
       "      <td>Greensboro</td>\n",
       "      <td>North Carolina</td>\n",
       "      <td>669027872309436416</td>\n",
       "      <td>en</td>\n",
       "      <td>United States</td>\n",
       "      <td>2222.0</td>\n",
       "      <td>3.085769e+08</td>\n",
       "      <td>2015-11-24</td>\n",
       "      <td>2015</td>\n",
       "      <td>Positive</td>\n",
       "      <td>2015-11</td>\n",
       "      <td>462.0</td>\n",
       "      <td>transgender</td>\n",
       "    </tr>\n",
       "    <tr>\n",
       "      <th>1</th>\n",
       "      <td>1</td>\n",
       "      <td>1</td>\n",
       "      <td>2015-11-24</td>\n",
       "      <td>1</td>\n",
       "      <td>2015-11-24T11:44:10.000Z</td>\n",
       "      <td>Pompano Beach</td>\n",
       "      <td>Florida</td>\n",
       "      <td>669119314109308929</td>\n",
       "      <td>en</td>\n",
       "      <td>United States</td>\n",
       "      <td>958.0</td>\n",
       "      <td>2.044995e+07</td>\n",
       "      <td>2015-11-24</td>\n",
       "      <td>2015</td>\n",
       "      <td>Positive</td>\n",
       "      <td>2015-11</td>\n",
       "      <td>462.0</td>\n",
       "      <td>gay</td>\n",
       "    </tr>\n",
       "    <tr>\n",
       "      <th>2</th>\n",
       "      <td>2</td>\n",
       "      <td>2</td>\n",
       "      <td>2015-11-24</td>\n",
       "      <td>2</td>\n",
       "      <td>2015-11-24T19:06:21.000Z</td>\n",
       "      <td>Norwalk</td>\n",
       "      <td>California</td>\n",
       "      <td>669230592253231104</td>\n",
       "      <td>en</td>\n",
       "      <td>United States</td>\n",
       "      <td>46.0</td>\n",
       "      <td>2.657305e+09</td>\n",
       "      <td>2015-11-24</td>\n",
       "      <td>2015</td>\n",
       "      <td>Positive</td>\n",
       "      <td>2015-11</td>\n",
       "      <td>462.0</td>\n",
       "      <td>gay</td>\n",
       "    </tr>\n",
       "    <tr>\n",
       "      <th>3</th>\n",
       "      <td>3</td>\n",
       "      <td>3</td>\n",
       "      <td>2015-11-24</td>\n",
       "      <td>3</td>\n",
       "      <td>2015-11-24T04:21:33.000Z</td>\n",
       "      <td>Granger</td>\n",
       "      <td>Indiana</td>\n",
       "      <td>669007925042507776</td>\n",
       "      <td>en</td>\n",
       "      <td>United States</td>\n",
       "      <td>165.0</td>\n",
       "      <td>9.179618e+08</td>\n",
       "      <td>2015-11-24</td>\n",
       "      <td>2015</td>\n",
       "      <td>Positive</td>\n",
       "      <td>2015-11</td>\n",
       "      <td>462.0</td>\n",
       "      <td>queer</td>\n",
       "    </tr>\n",
       "    <tr>\n",
       "      <th>4</th>\n",
       "      <td>4</td>\n",
       "      <td>4</td>\n",
       "      <td>2015-11-24</td>\n",
       "      <td>4</td>\n",
       "      <td>2015-11-24T17:19:54.000Z</td>\n",
       "      <td>Ocoee</td>\n",
       "      <td>Florida</td>\n",
       "      <td>669203801828671488</td>\n",
       "      <td>en</td>\n",
       "      <td>United States</td>\n",
       "      <td>2386.0</td>\n",
       "      <td>5.003118e+07</td>\n",
       "      <td>2015-11-24</td>\n",
       "      <td>2015</td>\n",
       "      <td>Negative</td>\n",
       "      <td>2015-11</td>\n",
       "      <td>462.0</td>\n",
       "      <td>gay</td>\n",
       "    </tr>\n",
       "  </tbody>\n",
       "</table>\n",
       "</div>"
      ],
      "text/plain": [
       "   Unnamed: 0  Unnamed: 0.1        Date  Unnamed: 1                 create_at  \\\n",
       "0           0             0  2015-11-24           0  2015-11-24T05:40:49.000Z   \n",
       "1           1             1  2015-11-24           1  2015-11-24T11:44:10.000Z   \n",
       "2           2             2  2015-11-24           2  2015-11-24T19:06:21.000Z   \n",
       "3           3             3  2015-11-24           3  2015-11-24T04:21:33.000Z   \n",
       "4           4             4  2015-11-24           4  2015-11-24T17:19:54.000Z   \n",
       "\n",
       "  geo_tag-cityName geo_tag-stateName                  id lang  place-country  \\\n",
       "0       Greensboro    North Carolina  669027872309436416   en  United States   \n",
       "1    Pompano Beach           Florida  669119314109308929   en  United States   \n",
       "2          Norwalk        California  669230592253231104   en  United States   \n",
       "3          Granger           Indiana  669007925042507776   en  United States   \n",
       "4            Ocoee           Florida  669203801828671488   en  United States   \n",
       "\n",
       "   user-followers_count       user-id      Date.1  Year sentiment year-month  \\\n",
       "0                2222.0  3.085769e+08  2015-11-24  2015  Positive    2015-11   \n",
       "1                 958.0  2.044995e+07  2015-11-24  2015  Positive    2015-11   \n",
       "2                  46.0  2.657305e+09  2015-11-24  2015  Positive    2015-11   \n",
       "3                 165.0  9.179618e+08  2015-11-24  2015  Positive    2015-11   \n",
       "4                2386.0  5.003118e+07  2015-11-24  2015  Negative    2015-11   \n",
       "\n",
       "   num_crimes_per_month      keyword  \n",
       "0                 462.0  transgender  \n",
       "1                 462.0          gay  \n",
       "2                 462.0          gay  \n",
       "3                 462.0        queer  \n",
       "4                 462.0          gay  "
      ]
     },
     "execution_count": 12,
     "metadata": {},
     "output_type": "execute_result"
    }
   ],
   "source": [
    "def keyword(text):\n",
    "    temp = re.split(\"[^a-z]\", text.lower())\n",
    "    keywordList = set()\n",
    "    words = [\"lgbt\", \"lgbtqia\", \"gay\", \"lesbian\",  \"bisexual\", \n",
    "     \"queer\", \"transgender\", \"transphobia\", \"homophobia\", \"trans\", \n",
    "     \"homophobe\", \"transphobic\", \"homophobic\", \"transphobe\", \"asexual\", \n",
    "     \"aromantic\", \"cisgender\", \"homosexual\", \"pansexual\"]\n",
    "    \n",
    "    for word in temp:\n",
    "        if word in words:\n",
    "            return word\n",
    "    #return list(keywordList)\n",
    "\n",
    "data[\"keyword\"] = data[\"text\"].apply(keyword)\n",
    "data[\"keyword\"] = data[\"keyword\"].astype(\"category\")\n",
    "data = data.dropna()\n",
    "data.head()\n",
    "data = data.drop(columns=['text', 'place-full_name', 'user-description'])\n",
    "data.head()"
   ]
  },
  {
   "cell_type": "code",
   "execution_count": 13,
   "metadata": {},
   "outputs": [],
   "source": [
    "data.to_csv(\"tweets_num_crimes_per_month_with_keywords_no_text.csv\")"
   ]
  },
  {
   "cell_type": "code",
   "execution_count": 5,
   "metadata": {},
   "outputs": [
    {
     "data": {
      "text/plain": [
       "<BarContainer object of 19 artists>"
      ]
     },
     "execution_count": 5,
     "metadata": {},
     "output_type": "execute_result"
    },
    {
     "data": {
      "image/png": "[encoded data removed]",
      "text/plain": [
       "<Figure size 432x288 with 1 Axes>"
      ]
     },
     "metadata": {
      "needs_background": "light"
     },
     "output_type": "display_data"
    }
   ],
   "source": [
    "keywordData = data.groupby([\"keyword\"])[\"keyword\"].count().reset_index (name=\"count\")\n",
    "plt.barh(keywordData[\"keyword\"], keywordData[\"count\"], color=[\"red\", \"orangered\", \"orange\", \"gold\", \"yellow\", \n",
    "                                                              \"greenyellow\", \"limegreen\", \"turquoise\", \"cyan\", \"deepskyblue\", \n",
    "                                                              \"royalblue\", \"blueviolet\", \"mediumorchid\", \"fuchsia\", \"hotpink\", \"crimson\",\n",
    "                                                              \"dimgray\", \"darkgray\", \"gainsboro\", \"whitesmoke\"])"
   ]
  },
  {
   "cell_type": "code",
   "execution_count": 14,
   "metadata": {},
   "outputs": [
    {
     "data": {
      "text/plain": [
       "([<matplotlib.axis.XTick at 0x2214c0de668>,\n",
       "  <matplotlib.axis.XTick at 0x2214c0de1d0>,\n",
       "  <matplotlib.axis.XTick at 0x2214c0d8c88>,\n",
       "  <matplotlib.axis.XTick at 0x2214c0ffa90>,\n",
       "  <matplotlib.axis.XTick at 0x2214c0fff60>],\n",
       " <a list of 5 Text xticklabel objects>)"
      ]
     },
     "execution_count": 14,
     "metadata": {},
     "output_type": "execute_result"
    },
    {
     "data": {
      "image/png": "[encoded data removed]",
      "text/plain": [
       "<Figure size 432x288 with 1 Axes>"
      ]
     },
     "metadata": {
      "needs_background": "light"
     },
     "output_type": "display_data"
    }
   ],
   "source": [
    "keywordDataDaily = data.groupby([\"keyword\", \"Date\"])[\"keyword\"].count().reset_index (name=\"count\")\n",
    "keywordDataDaily\n",
    "\n",
    "words = [\"lgbt\", \"lgbtqia\", \"gay\", \"lesbian\",  \"bisexual\", \n",
    "     \"queer\", \"transgender\", \"transphobia\", \"homophobia\", \"trans\", \n",
    "     \"homophobe\", \"transphobic\", \"homophobic\", \"transphobe\", \"asexual\", \n",
    "     \"aromantic\", \"cisgender\", \"homosexual\", \"pansexual\"]\n",
    "\n",
    "colors=[\"red\", \"orangered\", \"orange\", \"gold\", \"yellow\", \n",
    "     \"greenyellow\", \"limegreen\", \"turquoise\", \"cyan\", \"deepskyblue\", \n",
    "     \"royalblue\", \"blueviolet\", \"mediumorchid\", \"fuchsia\", \"hotpink\", \"crimson\",\n",
    "     \"dimgray\", \"darkgray\", \"gainsboro\", \"whitesmoke\"]\n",
    "    \n",
    "temp = keywordDataDaily.loc[keywordDataDaily[\"keyword\"] == \"gay\"]\n",
    "plt.plot(temp[\"Date\"], temp[\"count\"], color=\"red\", label=keyword, linewidth=1)\n",
    "plt.xticks([\"2015-12-01\", \"2016-12-01\", \"2017-12-01\", \"2018-12-01\", \n",
    "            \"2019-12-01\"])"
   ]
  },
  {
   "cell_type": "code",
   "execution_count": null,
   "metadata": {},
   "outputs": [],
   "source": []
  }
 ],
 "metadata": {
  "kernelspec": {
   "display_name": "Python 3",
   "language": "python",
   "name": "python3"
  },
  "language_info": {
   "codemirror_mode": {
    "name": "ipython",
    "version": 3
   },
   "file_extension": ".py",
   "mimetype": "text/x-python",
   "name": "python",
   "nbconvert_exporter": "python",
   "pygments_lexer": "ipython3",
   "version": "3.7.3"
  },
  "orig_nbformat": 4
 },
 "nbformat": 4,
 "nbformat_minor": 2
}
